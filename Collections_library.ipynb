{
  "nbformat": 4,
  "nbformat_minor": 0,
  "metadata": {
    "colab": {
      "provenance": []
    },
    "kernelspec": {
      "name": "python3",
      "display_name": "Python 3"
    },
    "language_info": {
      "name": "python"
    }
  },
  "cells": [
    {
      "cell_type": "markdown",
      "source": [
        "The Notebook goes over the collections library in python\n",
        "\n",
        "Documentation can be found at:\n",
        "https://docs.python.org/3/library/collections.html "
      ],
      "metadata": {
        "id": "c2urOI5YJWaK"
      }
    },
    {
      "cell_type": "code",
      "execution_count": 6,
      "metadata": {
        "colab": {
          "base_uri": "https://localhost:8080/"
        },
        "id": "8oXhh3XAJCy2",
        "outputId": "36b0fecb-fd56-49a8-ce31-c4d1ece8fe2c"
      },
      "outputs": [
        {
          "output_type": "stream",
          "name": "stdout",
          "text": [
            "Counter({'b': 7, 'a': 4, 'c': 3})\n",
            "dict_keys(['a', 'b', 'c'])\n",
            "[('b', 7), ('a', 4)]\n",
            "['a', 'a', 'a', 'a', 'b', 'b', 'b', 'b', 'b', 'b', 'b', 'c', 'c', 'c']\n"
          ]
        }
      ],
      "source": [
        "from collections import Counter\n",
        "a = 'aaaabbbbbbbccc'\n",
        "my_counter = Counter(a)\n",
        "print(my_counter)\n",
        "print(my_counter.keys())              #returns unique values\n",
        "print(my_counter.most_common(2))      #top 2 occurences. (returns a list of tuples)\n",
        "print(list(my_counter.elements()))    #returns a list a values from the given string"
      ]
    },
    {
      "cell_type": "code",
      "source": [
        "from collections import defaultdict\n",
        "\n",
        "d = defaultdict(int)\n",
        "\n",
        "d['a'] = 1\n",
        "d['b'] = 2\n",
        "\n",
        "print(d['c'])   #here we are seeing zero because with defaultdict we are intializing the default value for a key to be zero. "
      ],
      "metadata": {
        "colab": {
          "base_uri": "https://localhost:8080/"
        },
        "id": "RrP-qYNIJ0lX",
        "outputId": "a90ac2f5-6bd9-4187-bc5b-6aa9de3ea54d"
      },
      "execution_count": 10,
      "outputs": [
        {
          "output_type": "stream",
          "name": "stdout",
          "text": [
            "0\n"
          ]
        }
      ]
    },
    {
      "cell_type": "code",
      "source": [
        "from collections import deque\n",
        "d = deque()\n",
        "\n",
        "d.append(1)\n",
        "d.append(2)\n",
        "print(d)\n",
        "\n",
        "d.appendleft(3)\n",
        "print(d)\n",
        "\n",
        "d.popleft()   #without left with will remove the far right element\n",
        "\n",
        "d.clear()     #will clear all elements\n",
        "\n",
        "d.append(1)\n",
        "d.append(2)\n",
        "d.extendleft([5, 4, 8])   #notice the order in whice these elements were added\n",
        "                          #just extend() will do the same thing on the right side\n",
        "print(d)\n",
        "\n",
        "d.rotate(1)    #moves/rotates elements to the right\n",
        "print(d)\n",
        "\n",
        "d.rotate(-2)   #moves/rotates elements to the left\n",
        "print(d)\n",
        "\n"
      ],
      "metadata": {
        "colab": {
          "base_uri": "https://localhost:8080/"
        },
        "id": "gm9e2n89Ns7o",
        "outputId": "3e5749d6-7acd-4b92-9e31-d4973dca0b02"
      },
      "execution_count": 15,
      "outputs": [
        {
          "output_type": "stream",
          "name": "stdout",
          "text": [
            "deque([1, 2])\n",
            "deque([3, 1, 2])\n",
            "deque([8, 4, 5, 1, 2])\n",
            "deque([2, 8, 4, 5, 1])\n",
            "deque([4, 5, 1, 2, 8])\n"
          ]
        }
      ]
    }
  ]
}